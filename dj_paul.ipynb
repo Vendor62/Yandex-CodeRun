{
 "cells": [
  {
   "cell_type": "markdown",
   "id": "cc2a7447-2112-4552-a792-39cd77031559",
   "metadata": {},
   "source": [
    "### 202. DJ Паша"
   ]
  },
  {
   "cell_type": "markdown",
   "id": "e73532cb-0abc-465e-b911-180960861a91",
   "metadata": {},
   "source": [
    "Паша готовится к вечеринке и составляет плейлист из хип-хоп музыки. Он не хочет брать заезженные треки и ищет что-то новенькое, что он раньше не слышал.\n",
    "\n",
    "Паша включил поток по неизвестным трекам в Яндекс Музыке и отбирает плейлист. Он посчитал, что неизвестный трек становится для него любимым с вероятностью 20%.\n",
    "\n",
    "И из любимых в среднем каждый 3 трек в жанре хип-хоп.\n",
    "\n",
    "Паша пытается понять, сколько ему нужно выделить времени, чтобы составить классный хип-хоп плейлист. Помогите ему посчитать, сколько в среднем нужно потратить времени, чтобы услышать один любимый хип-хоп трек, если в среднем один музыкальный трек длится 2 минуты 45 секунд."
   ]
  },
  {
   "cell_type": "code",
   "execution_count": 11,
   "id": "5d12fe48-0905-4e38-a98d-ddd63814c6f0",
   "metadata": {},
   "outputs": [],
   "source": [
    "import pandas as pd"
   ]
  },
  {
   "cell_type": "markdown",
   "id": "5369f950-5995-45d1-9aa3-7a4032b7b1d9",
   "metadata": {},
   "source": [
    "Событие А - услышать любимый трек, событие B - любимый трек окажется хип-хопом. Сохраню вероятности в переменных и конвертирую время в секунды."
   ]
  },
  {
   "cell_type": "code",
   "execution_count": 22,
   "id": "d265420d-f90d-4d61-a43c-343f70a8d497",
   "metadata": {},
   "outputs": [],
   "source": [
    "pa = 0.2\n",
    "pb = 1/3\n",
    "l = (pd.Timedelta(minutes=2, seconds=45)).total_seconds()"
   ]
  },
  {
   "cell_type": "markdown",
   "id": "1b1d3cc6-8205-4de5-80ca-4d8ed97b1aa6",
   "metadata": {},
   "source": [
    "События A и B являются совместными независимыми, т.к. наступление одного события не влияет на вероятность наступления другого, значит вероятность пересечения событий равна произведению вероятностей их наступления. "
   ]
  },
  {
   "cell_type": "code",
   "execution_count": 21,
   "id": "2de0e8f3-23e6-4b67-9471-89ec530f3bf3",
   "metadata": {},
   "outputs": [],
   "source": [
    "panb = pa * pb"
   ]
  },
  {
   "cell_type": "markdown",
   "id": "e455e608-bfbb-4ee5-a365-8f57f90d3aea",
   "metadata": {},
   "source": [
    "Ожидаемое количество треков, которое необходимо прослушать, чтоб услышать любимый хип-хоп трек будет равно 1 / P(A∩B), а для того, чтоб найти ожидаемую продолжительность t, нужно умножить это количество на среднюю длительность одного трека l."
   ]
  },
  {
   "cell_type": "code",
   "execution_count": 23,
   "id": "7afebdde-5f24-4573-9dca-e6d4dc679e77",
   "metadata": {},
   "outputs": [
    {
     "name": "stdout",
     "output_type": "stream",
     "text": [
      "2475.0\n"
     ]
    }
   ],
   "source": [
    "t = l * (1 / panb)\n",
    "print(t)"
   ]
  }
 ],
 "metadata": {
  "kernelspec": {
   "display_name": "Python 3 (ipykernel)",
   "language": "python",
   "name": "python3"
  },
  "language_info": {
   "codemirror_mode": {
    "name": "ipython",
    "version": 3
   },
   "file_extension": ".py",
   "mimetype": "text/x-python",
   "name": "python",
   "nbconvert_exporter": "python",
   "pygments_lexer": "ipython3",
   "version": "3.9.19"
  }
 },
 "nbformat": 4,
 "nbformat_minor": 5
}
