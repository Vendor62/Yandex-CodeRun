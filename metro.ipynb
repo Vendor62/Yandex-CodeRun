{
 "cells": [
  {
   "cell_type": "markdown",
   "id": "3fb59009-c20e-409b-8f42-5b7082df1f54",
   "metadata": {},
   "source": [
    "### 343. Метро\n",
    "\n",
    "Машинист Пётр управляет составом на кольцевой линии Омского метрополитена, станции которой пронумерованы по часовой стрелке от 1 до 10. В Омском метрополитене строго придерживаются расписания, и каждый день состав начинает движение со станции 1 ровно в 5:00 и заканчивает на станции 10 ровно в 23:30.\n",
    "\n",
    "В метрополитене ходит всего один-единственный поезд. Это значит, что он посещает станции последовательно: сначала станцию 1, потом станцию 2, затем станцию 3, ……, станцию 10, а потом опять станцию 1 и так далее, пока не наступит 23:30 (в 23:30 поезд прибывает на 10-ю станцию и больше в этот день никуда не едет). Движение поезда неравномерное, но переезд с одной станции на другую занимает не менее одной минуты. Временем остановки следует пренебречь.\n",
    "\n",
    "Однажды Петру захотелось узнать, сколько в среднем людей одновременно находилось в его составе в течение дня. Он вычисляет эту величину так.\n",
    "\n",
    "Рассмотрим все перегоны spanspan между соседними станциями, и зададим каждый из них пятью числами:\n",
    "\n",
    "(station_from,station_to,time_from,time_to,passengers)\n",
    "station_to=(station_from(mod10))+1\n",
    "\n",
    "Тогда среднее количество одновременно находившихся в составе людей вычисляется так:\n",
    "(∑_span(time_to − time_from) ⋅ passengers) / ∑_span(time_to − time_from)\n",
    "\n",
    "Вам дан лог событий вида (pid, action, station_num, time), означающих, что пассажир с номером pid в момент времени time на станции station_num либо вошел в состав (action = 'in'), либо вышел из него (action = 'out').\n",
    "\n",
    "Пожалуйста, помогите Петру найти интересующее его значение."
   ]
  },
  {
   "cell_type": "code",
   "execution_count": 1,
   "id": "b4ac6802-5529-4e23-96ed-d8b249502917",
   "metadata": {},
   "outputs": [],
   "source": [
    "import datetime"
   ]
  },
  {
   "cell_type": "code",
   "execution_count": 2,
   "id": "15a49cb1-e7de-453b-9bdb-1f6e0ae1094a",
   "metadata": {},
   "outputs": [
    {
     "name": "stdin",
     "output_type": "stream",
     "text": [
      " 3 in 1 05:00 5 in 1 05:00 5 out 2 05:05 6 in 2 05:05 7 in 3 05:12 1 in 4 05:22 2 in 5 05:32 4 in 6 05:42 3 out 6 05:42 6 out 6 05:42 7 out 6 05:42 1 out 6 05:42 10 in 7 06:00 11 in 8 12:00 3 in 9 16:00 10 out 9 16:00 11 out 9 16:00 2 out 9 16:00 4 out 9 16:00 3 out 10 23:30\n"
     ]
    }
   ],
   "source": [
    "log = input()"
   ]
  },
  {
   "cell_type": "markdown",
   "id": "2161a9ac-21c3-4a71-8866-b58a6ebbd83d",
   "metadata": {},
   "source": [
    "Формирую из переданного на ввод лога список списков."
   ]
  },
  {
   "cell_type": "code",
   "execution_count": 3,
   "id": "682aad63-8c51-499e-a39c-d23b8b082f78",
   "metadata": {},
   "outputs": [
    {
     "data": {
      "text/plain": [
       "[['3', 'in', '1', '05:00'],\n",
       " ['5', 'in', '1', '05:00'],\n",
       " ['5', 'out', '2', '05:05'],\n",
       " ['6', 'in', '2', '05:05'],\n",
       " ['7', 'in', '3', '05:12'],\n",
       " ['1', 'in', '4', '05:22'],\n",
       " ['2', 'in', '5', '05:32'],\n",
       " ['4', 'in', '6', '05:42'],\n",
       " ['3', 'out', '6', '05:42'],\n",
       " ['6', 'out', '6', '05:42'],\n",
       " ['7', 'out', '6', '05:42'],\n",
       " ['1', 'out', '6', '05:42'],\n",
       " ['10', 'in', '7', '06:00'],\n",
       " ['11', 'in', '8', '12:00'],\n",
       " ['3', 'in', '9', '16:00'],\n",
       " ['10', 'out', '9', '16:00'],\n",
       " ['11', 'out', '9', '16:00'],\n",
       " ['2', 'out', '9', '16:00'],\n",
       " ['4', 'out', '9', '16:00'],\n",
       " ['3', 'out', '10', '23:30']]"
      ]
     },
     "execution_count": 3,
     "metadata": {},
     "output_type": "execute_result"
    }
   ],
   "source": [
    "records = log.split()\n",
    "data = [records[i:i+4] for i in range(0, len(records), 4)]\n",
    "data = sorted(data, key=lambda x: x[3])\n",
    "data"
   ]
  },
  {
   "cell_type": "markdown",
   "id": "3cd288a4-690a-4131-8564-335d2ae24c52",
   "metadata": {},
   "source": [
    "Создам счётчик, который будет считать входящих и выходящих пассажиров."
   ]
  },
  {
   "cell_type": "code",
   "execution_count": 4,
   "id": "c2bbef13-61ea-46d4-9869-b53870475b20",
   "metadata": {},
   "outputs": [
    {
     "data": {
      "text/plain": [
       "[['3', 'in', 1, '05:00', 1],\n",
       " ['5', 'in', 1, '05:00', 2],\n",
       " ['5', 'out', 2, '05:05', 1],\n",
       " ['6', 'in', 2, '05:05', 2],\n",
       " ['7', 'in', 3, '05:12', 3],\n",
       " ['1', 'in', 4, '05:22', 4],\n",
       " ['2', 'in', 5, '05:32', 5],\n",
       " ['4', 'in', 6, '05:42', 6],\n",
       " ['3', 'out', 6, '05:42', 5],\n",
       " ['6', 'out', 6, '05:42', 4],\n",
       " ['7', 'out', 6, '05:42', 3],\n",
       " ['1', 'out', 6, '05:42', 2],\n",
       " ['10', 'in', 7, '06:00', 3],\n",
       " ['11', 'in', 8, '12:00', 4],\n",
       " ['3', 'in', 9, '16:00', 5],\n",
       " ['10', 'out', 9, '16:00', 4],\n",
       " ['11', 'out', 9, '16:00', 3],\n",
       " ['2', 'out', 9, '16:00', 2],\n",
       " ['4', 'out', 9, '16:00', 1],\n",
       " ['3', 'out', 10, '23:30', 0]]"
      ]
     },
     "execution_count": 4,
     "metadata": {},
     "output_type": "execute_result"
    }
   ],
   "source": [
    "for i, record in enumerate(data):\n",
    "    record[2] = int(record[2])\n",
    "    record.append(1)\n",
    "\n",
    "    if i != 0:\n",
    "        if data[i][1] == 'in':\n",
    "            data[i][4] = data[i - 1][4] + 1\n",
    "        elif data[i][1] == 'out':\n",
    "            data[i][4] = data[i - 1][4] - 1\n",
    "data"
   ]
  },
  {
   "cell_type": "markdown",
   "id": "9c1ad59f-1bdb-4eb1-adc2-02c5cb2a509d",
   "metadata": {},
   "source": [
    "Теперь из лога нужно откинуть дубли с одинаковым номером станции и временем, в которых отражена посадка-высадка пассажиров. Таким образом в логе останутся только временные промежутки между перегонами и конечное число пассажиров в вагоне, что и нужно для расчётов. "
   ]
  },
  {
   "cell_type": "code",
   "execution_count": 5,
   "id": "55022aba-8af9-478a-bce8-dfc094376861",
   "metadata": {},
   "outputs": [
    {
     "data": {
      "text/plain": [
       "[['5', 'in', 1, '05:00', 2],\n",
       " ['6', 'in', 2, '05:05', 2],\n",
       " ['7', 'in', 3, '05:12', 3],\n",
       " ['1', 'in', 4, '05:22', 4],\n",
       " ['2', 'in', 5, '05:32', 5],\n",
       " ['1', 'out', 6, '05:42', 2],\n",
       " ['10', 'in', 7, '06:00', 3],\n",
       " ['11', 'in', 8, '12:00', 4],\n",
       " ['4', 'out', 9, '16:00', 1],\n",
       " ['3', 'out', 10, '23:30', 0]]"
      ]
     },
     "execution_count": 5,
     "metadata": {},
     "output_type": "execute_result"
    }
   ],
   "source": [
    "last_occurrences = {} #Создается словарь для отслеживания последнего вхождения каждой станции\n",
    "\n",
    "for record in reversed(data): #Итерирую по списку в обратном порядке\n",
    "    station_num = record[2]\n",
    "    time = record[3]\n",
    "    key = (station_num, time) #Формирую уникальный ключ на основе номера станции и времени\n",
    "    if key in last_occurrences: #Если ключ уже есть в словаре, то запись пропускается\n",
    "        continue\n",
    "    last_occurrences[key] = record #Иначе добавляется в словарь\n",
    "\n",
    "data = list(last_occurrences.values()) #Преобразую словарь обратно в список\n",
    "data.reverse()\n",
    "data"
   ]
  },
  {
   "cell_type": "markdown",
   "id": "040c2ecf-9143-4a80-960b-a2d0e8673b83",
   "metadata": {},
   "source": [
    "Вычисляю разницу во времени между нахождением на станциях, тем самым получу длительность перегонов."
   ]
  },
  {
   "cell_type": "code",
   "execution_count": 6,
   "id": "be79d39d-2d23-46db-92a2-ddaceeda31df",
   "metadata": {},
   "outputs": [
    {
     "data": {
      "text/plain": [
       "[['5', 'in', 1, datetime.datetime(1900, 1, 1, 5, 0), 2, 300.0],\n",
       " ['6', 'in', 2, datetime.datetime(1900, 1, 1, 5, 5), 2, 420.0],\n",
       " ['7', 'in', 3, datetime.datetime(1900, 1, 1, 5, 12), 3, 600.0],\n",
       " ['1', 'in', 4, datetime.datetime(1900, 1, 1, 5, 22), 4, 600.0],\n",
       " ['2', 'in', 5, datetime.datetime(1900, 1, 1, 5, 32), 5, 600.0],\n",
       " ['1', 'out', 6, datetime.datetime(1900, 1, 1, 5, 42), 2, 1080.0],\n",
       " ['10', 'in', 7, datetime.datetime(1900, 1, 1, 6, 0), 3, 21600.0],\n",
       " ['11', 'in', 8, datetime.datetime(1900, 1, 1, 12, 0), 4, 14400.0],\n",
       " ['4', 'out', 9, datetime.datetime(1900, 1, 1, 16, 0), 1, 27000.0],\n",
       " ['3', 'out', 10, datetime.datetime(1900, 1, 1, 23, 30), 0, 0]]"
      ]
     },
     "execution_count": 6,
     "metadata": {},
     "output_type": "execute_result"
    }
   ],
   "source": [
    "for i, record in enumerate(data):\n",
    "    time = record[3]\n",
    "    record[3] = datetime.datetime.strptime(time, '%H:%M')\n",
    "\n",
    "    if i != 0:\n",
    "        time_diff = record[3] - data[i - 1][3]\n",
    "        time_diff_sec = time_diff.total_seconds() #Разность конвертируется в секунды\n",
    "        data[i - 1].append(time_diff_sec) #И записывается в предыдущую строку\n",
    "\n",
    "    if i == len(data) - 1:\n",
    "        data[i].append(0) #В последнюю строку добавляется ноль, т.к. поезд прибыл на конечную станцию\n",
    "data"
   ]
  },
  {
   "cell_type": "markdown",
   "id": "8a0513be-b6e7-4afa-9a15-dc51df995916",
   "metadata": {},
   "source": [
    "Осталось только подставить все значения в указанную формулу."
   ]
  },
  {
   "cell_type": "code",
   "execution_count": 7,
   "id": "88b3fae4-e611-4011-834d-dac356e6d128",
   "metadata": {},
   "outputs": [
    {
     "name": "stdout",
     "output_type": "stream",
     "text": [
      "2.405405405405\n"
     ]
    }
   ],
   "source": [
    "total_time = 18 * 3600 + 30 * 60\n",
    "total_product_sum = sum(record[-2] * record[-1] for record in data)\n",
    "result = total_product_sum / total_time\n",
    "print(\"{:.12f}\".format(result))"
   ]
  },
  {
   "cell_type": "code",
   "execution_count": null,
   "id": "3f311875-f3a3-4d02-aebe-2f01beab80a8",
   "metadata": {},
   "outputs": [],
   "source": []
  }
 ],
 "metadata": {
  "kernelspec": {
   "display_name": "Python 3 (ipykernel)",
   "language": "python",
   "name": "python3"
  },
  "language_info": {
   "codemirror_mode": {
    "name": "ipython",
    "version": 3
   },
   "file_extension": ".py",
   "mimetype": "text/x-python",
   "name": "python",
   "nbconvert_exporter": "python",
   "pygments_lexer": "ipython3",
   "version": "3.9.19"
  }
 },
 "nbformat": 4,
 "nbformat_minor": 5
}
