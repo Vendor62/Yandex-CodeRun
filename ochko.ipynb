{
 "cells": [
  {
   "cell_type": "markdown",
   "id": "5b6bdc61-14f7-4738-aabc-b976f2caa6b2",
   "metadata": {},
   "source": [
    "### 316. Колода карт"
   ]
  },
  {
   "cell_type": "markdown",
   "id": "04b6bc17-f15c-4da4-b2a2-7049d5b60b2b",
   "metadata": {},
   "source": [
    "Из хорошо перетасованной полной колоды карт (от двоек до тузов, 4 масти, всего 52 карты) вам выдают 6 карт подряд. С какой вероятностью выданные карты в сумме дают 21 очко? Считайте, что валет — это 11 очков, дама — 12 очков, король — 13 очков, туз — 14 очков. Число очков для остальных карт совпадает с их номиналом.\n",
    "\n",
    "Ответ округлите до шестого знака после точки."
   ]
  },
  {
   "cell_type": "code",
   "execution_count": 22,
   "id": "ca8db411-ab24-4626-a622-f8c422e38db4",
   "metadata": {},
   "outputs": [],
   "source": [
    "import math"
   ]
  },
  {
   "cell_type": "markdown",
   "id": "95bb483b-e7fc-42f0-9a58-e3c1f9011e43",
   "metadata": {},
   "source": [
    "Для того, чтоб найти вероятность получить очко в 6 случайно выбранных картах, нужно поделить количество успехов на общее количество вариантов. Тег brute force в описании задачи как бы намекает, что не стоит мудрствовать лукаво и можно просто взять и перебрать все успешные комбинации. Запущу 6 циклов, которые переберут все суммы по 6 чисел из ряда 2-14. Так как имеем дело с колодой картой, в конце необходимо выполнить проверку, не встречается ли какое-то число более 4 раз."
   ]
  },
  {
   "cell_type": "code",
   "execution_count": 27,
   "id": "21bfedb9-fd94-46ab-b6cd-90ed523fa8a3",
   "metadata": {},
   "outputs": [
    {
     "name": "stdout",
     "output_type": "stream",
     "text": [
      "[2, 2, 2, 2, 3, 10]\n",
      "[2, 2, 2, 2, 4, 9]\n",
      "[2, 2, 2, 2, 5, 8]\n",
      "[2, 2, 2, 2, 6, 7]\n",
      "[2, 2, 2, 3, 3, 9]\n",
      "[2, 2, 2, 3, 4, 8]\n",
      "[2, 2, 2, 3, 5, 7]\n",
      "[2, 2, 2, 3, 6, 6]\n",
      "[2, 2, 2, 4, 4, 7]\n",
      "[2, 2, 2, 4, 5, 6]\n",
      "[2, 2, 2, 5, 5, 5]\n",
      "[2, 2, 3, 3, 3, 8]\n",
      "[2, 2, 3, 3, 4, 7]\n",
      "[2, 2, 3, 3, 5, 6]\n",
      "[2, 2, 3, 4, 4, 6]\n",
      "[2, 2, 3, 4, 5, 5]\n",
      "[2, 2, 4, 4, 4, 5]\n",
      "[2, 3, 3, 3, 3, 7]\n",
      "[2, 3, 3, 3, 4, 6]\n",
      "[2, 3, 3, 3, 5, 5]\n",
      "[2, 3, 3, 4, 4, 5]\n",
      "[2, 3, 4, 4, 4, 4]\n",
      "[3, 3, 3, 3, 4, 5]\n",
      "[3, 3, 3, 4, 4, 4]\n",
      "\n",
      "Количество успешных комбинаций: 24\n"
     ]
    }
   ],
   "source": [
    "combinations = []\n",
    "for a in range(2, 15):\n",
    "    for b in range(a, 15):\n",
    "        for c in range(b, 15):\n",
    "            for d in range(c, 15):\n",
    "                for e in range(d, 15):\n",
    "                    for f in range(e, 15):\n",
    "                        if a + b + c + d + e + f == 21:\n",
    "                            if [a, b, c, d, e, f].count(a) <= 4 and \\\n",
    "                            [a, b, c, d, e, f].count(b) <= 4 and \\\n",
    "                            [a, b, c, d, e, f].count(c) <= 4 and \\\n",
    "                            [a, b, c, d, e, f].count(d) <= 4 and \\\n",
    "                            [a, b, c, d, e, f].count(e) <= 4 and \\\n",
    "                            [a, b, c, d, e, f].count(f) <= 4:\n",
    "                                combinations.append([a, b, c, d, e, f])\n",
    "\n",
    "for combination in combinations:\n",
    "    print(combination)\n",
    "print()\n",
    "print(f'Количество успешных комбинаций: {len(combinations)}')\n",
    "k = len(combinations)"
   ]
  },
  {
   "cell_type": "markdown",
   "id": "12cf2cbf-cc9b-46bd-a4e6-57a8b4f08d6f",
   "metadata": {},
   "source": [
    "Теперь нужно найти общее количество возможных комбинаций. Оно будет равняться числу сочетаний по 6 из 52."
   ]
  },
  {
   "cell_type": "code",
   "execution_count": 28,
   "id": "f104d5cc-7794-4fbf-95d5-4db7370f84a6",
   "metadata": {},
   "outputs": [
    {
     "name": "stdout",
     "output_type": "stream",
     "text": [
      "Общее количество комбинаций 6 карт из колоды в 52: 20358520\n"
     ]
    }
   ],
   "source": [
    "n = math.comb(52, 6)\n",
    "print(\"Общее количество комбинаций 6 карт из колоды в 52:\", n)"
   ]
  },
  {
   "cell_type": "markdown",
   "id": "cd7469e9-bcde-4638-8ee4-c3943d026737",
   "metadata": {},
   "source": [
    "Вычисляю искомую вероятность."
   ]
  },
  {
   "cell_type": "code",
   "execution_count": 30,
   "id": "96e4c7f1-c7e3-4a7a-948f-183f3961673b",
   "metadata": {},
   "outputs": [
    {
     "name": "stdout",
     "output_type": "stream",
     "text": [
      "0.000001\n"
     ]
    }
   ],
   "source": [
    "print(\"{:.6f}\".format(k / n))"
   ]
  }
 ],
 "metadata": {
  "kernelspec": {
   "display_name": "Python 3 (ipykernel)",
   "language": "python",
   "name": "python3"
  },
  "language_info": {
   "codemirror_mode": {
    "name": "ipython",
    "version": 3
   },
   "file_extension": ".py",
   "mimetype": "text/x-python",
   "name": "python",
   "nbconvert_exporter": "python",
   "pygments_lexer": "ipython3",
   "version": "3.9.19"
  }
 },
 "nbformat": 4,
 "nbformat_minor": 5
}
