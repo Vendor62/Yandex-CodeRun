{
 "cells": [
  {
   "cell_type": "markdown",
   "id": "0361fb64-40d1-4bab-9cf9-a3e3bd6788c6",
   "metadata": {},
   "source": [
    "### 181. Формирование заплывов"
   ]
  },
  {
   "cell_type": "markdown",
   "id": "da56eea0-931f-402f-ae4d-af3236974e3c",
   "metadata": {},
   "source": [
    "Помогите расставить участников соревнований по плаванию. Заплывы формируются по стандартной системе:\n",
    "\n",
    "    В заплыве восемь дорожек.\n",
    "\n",
    "    Известно заявочное время каждого участника (по этому времени участники распределяются по заплывам).\n",
    "\n",
    "    Сначала идут слабейшие заплывы.\n",
    "\n",
    "    Внутри заплыва участники расставляются по правилу клина: сильнейшие в центре (лучший заявочный результат - на четвертой дорожке), слабейшие по краям (худший заявочный результат - на восьмой дорожке).\n",
    "\n",
    "    Считайте, что заплывы смешанные и разделения участников по полу нет, заявочное время разное у всех участников.\n",
    "\n",
    "После публикации стартовых протоколов оказалось, что одна команда из восьми человек опоздала и её надо срочно добавить в списки. Напишите алгоритм, с помощью которого по громкой связи можно объявить в каких заплывах и по какой дорожке будет плыть каждый участник опоздавшей команды.\n",
    "\n",
    "Выведите опоздавших участников в первоначальном порядке с указанием заплыва и номера дорожки через запятую."
   ]
  },
  {
   "cell_type": "code",
   "execution_count": 1,
   "id": "14519f70-0dcb-4745-bac9-2faea180ba0e",
   "metadata": {},
   "outputs": [],
   "source": [
    "import pandas as pd\n",
    "df = pd.read_csv('D:\\\\ds\\\\heats.csv')"
   ]
  },
  {
   "cell_type": "code",
   "execution_count": 2,
   "id": "7c3afbd8-7947-46bf-8929-821f02cf2868",
   "metadata": {},
   "outputs": [
    {
     "data": {
      "text/html": [
       "<div>\n",
       "<style scoped>\n",
       "    .dataframe tbody tr th:only-of-type {\n",
       "        vertical-align: middle;\n",
       "    }\n",
       "\n",
       "    .dataframe tbody tr th {\n",
       "        vertical-align: top;\n",
       "    }\n",
       "\n",
       "    .dataframe thead th {\n",
       "        text-align: right;\n",
       "    }\n",
       "</style>\n",
       "<table border=\"1\" class=\"dataframe\">\n",
       "  <thead>\n",
       "    <tr style=\"text-align: right;\">\n",
       "      <th></th>\n",
       "      <th>heat</th>\n",
       "      <th>id</th>\n",
       "      <th>time</th>\n",
       "    </tr>\n",
       "  </thead>\n",
       "  <tbody>\n",
       "    <tr>\n",
       "      <th>14</th>\n",
       "      <td>1</td>\n",
       "      <td>207</td>\n",
       "      <td>27.6</td>\n",
       "    </tr>\n",
       "    <tr>\n",
       "      <th>15</th>\n",
       "      <td>1</td>\n",
       "      <td>208</td>\n",
       "      <td>27.9</td>\n",
       "    </tr>\n",
       "    <tr>\n",
       "      <th>16</th>\n",
       "      <td>2</td>\n",
       "      <td>101</td>\n",
       "      <td>26.6</td>\n",
       "    </tr>\n",
       "    <tr>\n",
       "      <th>17</th>\n",
       "      <td>2</td>\n",
       "      <td>102</td>\n",
       "      <td>26.3</td>\n",
       "    </tr>\n",
       "    <tr>\n",
       "      <th>18</th>\n",
       "      <td>2</td>\n",
       "      <td>103</td>\n",
       "      <td>25.5</td>\n",
       "    </tr>\n",
       "    <tr>\n",
       "      <th>19</th>\n",
       "      <td>2</td>\n",
       "      <td>104</td>\n",
       "      <td>25.0</td>\n",
       "    </tr>\n",
       "    <tr>\n",
       "      <th>20</th>\n",
       "      <td>2</td>\n",
       "      <td>105</td>\n",
       "      <td>25.1</td>\n",
       "    </tr>\n",
       "    <tr>\n",
       "      <th>21</th>\n",
       "      <td>2</td>\n",
       "      <td>106</td>\n",
       "      <td>25.9</td>\n",
       "    </tr>\n",
       "    <tr>\n",
       "      <th>22</th>\n",
       "      <td>2</td>\n",
       "      <td>107</td>\n",
       "      <td>26.4</td>\n",
       "    </tr>\n",
       "    <tr>\n",
       "      <th>23</th>\n",
       "      <td>2</td>\n",
       "      <td>108</td>\n",
       "      <td>26.7</td>\n",
       "    </tr>\n",
       "  </tbody>\n",
       "</table>\n",
       "</div>"
      ],
      "text/plain": [
       "    heat   id  time\n",
       "14     1  207  27.6\n",
       "15     1  208  27.9\n",
       "16     2  101  26.6\n",
       "17     2  102  26.3\n",
       "18     2  103  25.5\n",
       "19     2  104  25.0\n",
       "20     2  105  25.1\n",
       "21     2  106  25.9\n",
       "22     2  107  26.4\n",
       "23     2  108  26.7"
      ]
     },
     "execution_count": 2,
     "metadata": {},
     "output_type": "execute_result"
    }
   ],
   "source": [
    "df.tail(10)"
   ]
  },
  {
   "cell_type": "markdown",
   "id": "05004384-3dfe-4974-9667-15c2be9c2595",
   "metadata": {},
   "source": [
    "Сортирую все данные по убыванию заявочного времени."
   ]
  },
  {
   "cell_type": "code",
   "execution_count": 3,
   "id": "1b035225-bbfb-49d9-9cb2-fcdc18c5e64c",
   "metadata": {},
   "outputs": [],
   "source": [
    "df = df.sort_values(by='time', ascending=False)"
   ]
  },
  {
   "cell_type": "markdown",
   "id": "4685de1f-e51e-43ff-8df0-134a12d1ec8b",
   "metadata": {},
   "source": [
    "Чтоб сформировать новые заплывы, поделю данные на три равных квантиля."
   ]
  },
  {
   "cell_type": "code",
   "execution_count": 4,
   "id": "e1903c02-ce78-40c5-9b3c-754240131e0e",
   "metadata": {},
   "outputs": [],
   "source": [
    "df['new_heat'] = pd.qcut(df['time'], q=3, labels=[3, 2, 1])"
   ]
  },
  {
   "cell_type": "markdown",
   "id": "9bb0266f-7443-4974-bcf3-4f2c4d615262",
   "metadata": {},
   "source": [
    "Теперь нужно расставить участников внутри заплыва \"клином\", в соответствии с условием задачи, и присвоить каждому участнику номер дорожки."
   ]
  },
  {
   "cell_type": "code",
   "execution_count": 5,
   "id": "e01b6c44-058b-42d5-8d79-5390b0b09d93",
   "metadata": {},
   "outputs": [],
   "source": [
    "new_order = [1, 3, 5, 7, 6, 4, 2, 0]\n",
    "\n",
    "for i in range(1,4):\n",
    "    df.loc[df['new_heat'] == i, ['id', 'time', 'heat']] = \\\n",
    "    df.loc[df['new_heat'] == i, ['id', 'time', 'heat']].iloc[new_order].values\n",
    "    df.loc[df['new_heat'] == i, 'track'] = range(1, 9)\n",
    "df[['heat', 'id', 'track']] = df[['heat', 'id', 'track']].astype(int)"
   ]
  },
  {
   "cell_type": "markdown",
   "id": "1cd4ae6e-6af2-4fde-869b-0578ac0ca0d2",
   "metadata": {},
   "source": [
    "Вывожу на экран нужный результат и привожу его к требуемому формату."
   ]
  },
  {
   "cell_type": "code",
   "execution_count": 9,
   "id": "e82e3e66-62f9-44b3-a2be-7e80c95459cd",
   "metadata": {},
   "outputs": [
    {
     "name": "stdout",
     "output_type": "stream",
     "text": [
      "301,3,6\n",
      "302,3,4\n",
      "303,1,8\n",
      "304,1,1\n",
      "305,2,1\n",
      "306,2,2\n",
      "307,1,2\n",
      "308,1,7\n"
     ]
    }
   ],
   "source": [
    "print((\n",
    "    df.query('heat == 0')[['id', 'new_heat', 'track']]\n",
    "    .sort_values(by='id')\n",
    "    .to_string(index=False, header=False)\n",
    "    .replace(' ', ',')\n",
    "))"
   ]
  },
  {
   "cell_type": "code",
   "execution_count": null,
   "id": "729b6026-59e3-4ba5-8b3b-e8347f0d0fee",
   "metadata": {},
   "outputs": [],
   "source": []
  }
 ],
 "metadata": {
  "kernelspec": {
   "display_name": "Python 3 (ipykernel)",
   "language": "python",
   "name": "python3"
  },
  "language_info": {
   "codemirror_mode": {
    "name": "ipython",
    "version": 3
   },
   "file_extension": ".py",
   "mimetype": "text/x-python",
   "name": "python",
   "nbconvert_exporter": "python",
   "pygments_lexer": "ipython3",
   "version": "3.9.19"
  }
 },
 "nbformat": 4,
 "nbformat_minor": 5
}
